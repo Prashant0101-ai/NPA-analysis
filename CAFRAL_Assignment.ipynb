{
 "cells": [
  {
   "cell_type": "code",
   "execution_count": 1,
   "metadata": {},
   "outputs": [],
   "source": [
    "import pandas as pd,numpy as np\n",
    "import matplotlib.pyplot as plt,seaborn as sns\n",
    "%matplotlib inline\n",
    "import warnings\n",
    "warnings.filterwarnings('ignore')"
   ]
  },
  {
   "cell_type": "code",
   "execution_count": 2,
   "metadata": {},
   "outputs": [],
   "source": [
    "inp0= pd.read_csv(\"nonfin_listed_icr_banker_npa.csv\")"
   ]
  },
  {
   "cell_type": "code",
   "execution_count": 3,
   "metadata": {},
   "outputs": [
    {
     "data": {
      "text/plain": [
       "(3316, 10)"
      ]
     },
     "execution_count": 3,
     "metadata": {},
     "output_type": "execute_result"
    }
   ],
   "source": [
    "inp0.shape"
   ]
  },
  {
   "cell_type": "code",
   "execution_count": 4,
   "metadata": {},
   "outputs": [
    {
     "data": {
      "text/html": [
       "<div>\n",
       "<style scoped>\n",
       "    .dataframe tbody tr th:only-of-type {\n",
       "        vertical-align: middle;\n",
       "    }\n",
       "\n",
       "    .dataframe tbody tr th {\n",
       "        vertical-align: top;\n",
       "    }\n",
       "\n",
       "    .dataframe thead th {\n",
       "        text-align: right;\n",
       "    }\n",
       "</style>\n",
       "<table border=\"1\" class=\"dataframe\">\n",
       "  <thead>\n",
       "    <tr style=\"text-align: right;\">\n",
       "      <th></th>\n",
       "      <th>co_code</th>\n",
       "      <th>month</th>\n",
       "      <th>year</th>\n",
       "    </tr>\n",
       "  </thead>\n",
       "  <tbody>\n",
       "    <tr>\n",
       "      <th>count</th>\n",
       "      <td>3316.000000</td>\n",
       "      <td>3316.000000</td>\n",
       "      <td>3316.0</td>\n",
       "    </tr>\n",
       "    <tr>\n",
       "      <th>mean</th>\n",
       "      <td>166198.507539</td>\n",
       "      <td>3.075995</td>\n",
       "      <td>2016.0</td>\n",
       "    </tr>\n",
       "    <tr>\n",
       "      <th>std</th>\n",
       "      <td>114260.586837</td>\n",
       "      <td>0.789992</td>\n",
       "      <td>0.0</td>\n",
       "    </tr>\n",
       "    <tr>\n",
       "      <th>min</th>\n",
       "      <td>11.000000</td>\n",
       "      <td>3.000000</td>\n",
       "      <td>2016.0</td>\n",
       "    </tr>\n",
       "    <tr>\n",
       "      <th>25%</th>\n",
       "      <td>78549.000000</td>\n",
       "      <td>3.000000</td>\n",
       "      <td>2016.0</td>\n",
       "    </tr>\n",
       "    <tr>\n",
       "      <th>50%</th>\n",
       "      <td>151870.500000</td>\n",
       "      <td>3.000000</td>\n",
       "      <td>2016.0</td>\n",
       "    </tr>\n",
       "    <tr>\n",
       "      <th>75%</th>\n",
       "      <td>235773.000000</td>\n",
       "      <td>3.000000</td>\n",
       "      <td>2016.0</td>\n",
       "    </tr>\n",
       "    <tr>\n",
       "      <th>max</th>\n",
       "      <td>535080.000000</td>\n",
       "      <td>12.000000</td>\n",
       "      <td>2016.0</td>\n",
       "    </tr>\n",
       "  </tbody>\n",
       "</table>\n",
       "</div>"
      ],
      "text/plain": [
       "             co_code        month    year\n",
       "count    3316.000000  3316.000000  3316.0\n",
       "mean   166198.507539     3.075995  2016.0\n",
       "std    114260.586837     0.789992     0.0\n",
       "min        11.000000     3.000000  2016.0\n",
       "25%     78549.000000     3.000000  2016.0\n",
       "50%    151870.500000     3.000000  2016.0\n",
       "75%    235773.000000     3.000000  2016.0\n",
       "max    535080.000000    12.000000  2016.0"
      ]
     },
     "execution_count": 4,
     "metadata": {},
     "output_type": "execute_result"
    }
   ],
   "source": [
    "inp0.describe()"
   ]
  },
  {
   "cell_type": "code",
   "execution_count": 5,
   "metadata": {},
   "outputs": [
    {
     "data": {
      "text/html": [
       "<div>\n",
       "<style scoped>\n",
       "    .dataframe tbody tr th:only-of-type {\n",
       "        vertical-align: middle;\n",
       "    }\n",
       "\n",
       "    .dataframe tbody tr th {\n",
       "        vertical-align: top;\n",
       "    }\n",
       "\n",
       "    .dataframe thead th {\n",
       "        text-align: right;\n",
       "    }\n",
       "</style>\n",
       "<table border=\"1\" class=\"dataframe\">\n",
       "  <thead>\n",
       "    <tr style=\"text-align: right;\">\n",
       "      <th></th>\n",
       "      <th>co_code</th>\n",
       "      <th>co_name</th>\n",
       "      <th>fy_date</th>\n",
       "      <th>month</th>\n",
       "      <th>year</th>\n",
       "      <th>icr_category</th>\n",
       "      <th>bank_name</th>\n",
       "      <th>bank_type</th>\n",
       "      <th>gnpar</th>\n",
       "      <th>nnpar</th>\n",
       "    </tr>\n",
       "  </thead>\n",
       "  <tbody>\n",
       "    <tr>\n",
       "      <th>0</th>\n",
       "      <td>11</td>\n",
       "      <td>20 MICRONS LTD.</td>\n",
       "      <td>31mar2016</td>\n",
       "      <td>3</td>\n",
       "      <td>2016</td>\n",
       "      <td>MED</td>\n",
       "      <td>STATE BANK OF INDIA</td>\n",
       "      <td>SBI &amp; Associates</td>\n",
       "      <td>NPAR_HI</td>\n",
       "      <td>NPAR_LO</td>\n",
       "    </tr>\n",
       "    <tr>\n",
       "      <th>1</th>\n",
       "      <td>289</td>\n",
       "      <td>A B C INDIA LTD.</td>\n",
       "      <td>31mar2016</td>\n",
       "      <td>3</td>\n",
       "      <td>2016</td>\n",
       "      <td>LOW</td>\n",
       "      <td>STATE BANK OF INDIA</td>\n",
       "      <td>SBI &amp; Associates</td>\n",
       "      <td>NPAR_HI</td>\n",
       "      <td>NPAR_LO</td>\n",
       "    </tr>\n",
       "    <tr>\n",
       "      <th>2</th>\n",
       "      <td>363</td>\n",
       "      <td>STARLOG ENTERPRISES LTD.</td>\n",
       "      <td>31mar2016</td>\n",
       "      <td>3</td>\n",
       "      <td>2016</td>\n",
       "      <td>LOW</td>\n",
       "      <td>AXIS BANK LTD.</td>\n",
       "      <td>Private</td>\n",
       "      <td>NPAR_LO</td>\n",
       "      <td>NPAR_LO</td>\n",
       "    </tr>\n",
       "    <tr>\n",
       "      <th>3</th>\n",
       "      <td>365</td>\n",
       "      <td>A B G SHIPYARD LTD.</td>\n",
       "      <td>31mar2016</td>\n",
       "      <td>3</td>\n",
       "      <td>2016</td>\n",
       "      <td>LOW</td>\n",
       "      <td>ANDHRA BANK</td>\n",
       "      <td>Public</td>\n",
       "      <td>NPAR_HI</td>\n",
       "      <td>NPAR_HI</td>\n",
       "    </tr>\n",
       "    <tr>\n",
       "      <th>4</th>\n",
       "      <td>400</td>\n",
       "      <td>A B L BIOTECHNOLOGIES LTD.</td>\n",
       "      <td>31mar2016</td>\n",
       "      <td>3</td>\n",
       "      <td>2016</td>\n",
       "      <td>NaN</td>\n",
       "      <td>I C I C I BANK LTD.</td>\n",
       "      <td>Private</td>\n",
       "      <td>NPAR_LO</td>\n",
       "      <td>NPAR_LO</td>\n",
       "    </tr>\n",
       "  </tbody>\n",
       "</table>\n",
       "</div>"
      ],
      "text/plain": [
       "   co_code                     co_name    fy_date  month  year icr_category  \\\n",
       "0       11             20 MICRONS LTD.  31mar2016      3  2016          MED   \n",
       "1      289            A B C INDIA LTD.  31mar2016      3  2016          LOW   \n",
       "2      363    STARLOG ENTERPRISES LTD.  31mar2016      3  2016          LOW   \n",
       "3      365         A B G SHIPYARD LTD.  31mar2016      3  2016          LOW   \n",
       "4      400  A B L BIOTECHNOLOGIES LTD.  31mar2016      3  2016          NaN   \n",
       "\n",
       "             bank_name         bank_type    gnpar    nnpar  \n",
       "0  STATE BANK OF INDIA  SBI & Associates  NPAR_HI  NPAR_LO  \n",
       "1  STATE BANK OF INDIA  SBI & Associates  NPAR_HI  NPAR_LO  \n",
       "2       AXIS BANK LTD.           Private  NPAR_LO  NPAR_LO  \n",
       "3          ANDHRA BANK            Public  NPAR_HI  NPAR_HI  \n",
       "4  I C I C I BANK LTD.           Private  NPAR_LO  NPAR_LO  "
      ]
     },
     "execution_count": 5,
     "metadata": {},
     "output_type": "execute_result"
    }
   ],
   "source": [
    "inp0.head(5)"
   ]
  },
  {
   "cell_type": "code",
   "execution_count": 6,
   "metadata": {},
   "outputs": [
    {
     "data": {
      "text/plain": [
       "co_code           0\n",
       "co_name           0\n",
       "fy_date           0\n",
       "month             0\n",
       "year              0\n",
       "icr_category    700\n",
       "bank_name       571\n",
       "bank_type       755\n",
       "gnpar           755\n",
       "nnpar           755\n",
       "dtype: int64"
      ]
     },
     "execution_count": 6,
     "metadata": {},
     "output_type": "execute_result"
    }
   ],
   "source": [
    "inp0.isnull().sum()"
   ]
  },
  {
   "cell_type": "code",
   "execution_count": 7,
   "metadata": {},
   "outputs": [
    {
     "data": {
      "text/plain": [
       "co_code          0.00\n",
       "co_name          0.00\n",
       "fy_date          0.00\n",
       "month            0.00\n",
       "year             0.00\n",
       "icr_category    21.11\n",
       "bank_name       17.22\n",
       "bank_type       22.77\n",
       "gnpar           22.77\n",
       "nnpar           22.77\n",
       "dtype: float64"
      ]
     },
     "execution_count": 7,
     "metadata": {},
     "output_type": "execute_result"
    }
   ],
   "source": [
    "percent_inp0= round(100*(inp0.isnull().sum()/len(inp0.index)), 2)\n",
    "percent_inp0"
   ]
  },
  {
   "cell_type": "code",
   "execution_count": 8,
   "metadata": {},
   "outputs": [
    {
     "data": {
      "text/plain": [
       "count     2616\n",
       "unique       3\n",
       "top       HIGH\n",
       "freq      1432\n",
       "Name: icr_category, dtype: object"
      ]
     },
     "execution_count": 8,
     "metadata": {},
     "output_type": "execute_result"
    }
   ],
   "source": [
    "inp0[\"icr_category\"].describe()"
   ]
  },
  {
   "cell_type": "code",
   "execution_count": 9,
   "metadata": {},
   "outputs": [
    {
     "data": {
      "image/png": "[encoded data removed]",
      "text/plain": [
       "<Figure size 504x360 with 1 Axes>"
      ]
     },
     "metadata": {
      "needs_background": "light"
     },
     "output_type": "display_data"
    }
   ],
   "source": [
    "plt.figure(figsize=[7,5])\n",
    "\n",
    "plt.title(\"ICR catregory\\n\", fontdict={'fontsize':21,'fontweight':6,'color':'Grey'})\n",
    "plt.xlabel('Classification of ICR\\n\\n',fontdict={'fontsize':14,'color':'black','fontweight':5})\n",
    "plt.ylabel('Amount\\n',fontdict={'fontsize':14,'color':'black','fontweight':5})\n",
    "inp0.icr_category.value_counts(normalize=True).plot.bar()\n",
    "plt.show()"
   ]
  },
  {
   "cell_type": "markdown",
   "metadata": {},
   "source": [
    "###\n",
    "We can see from the above univariate analysis that ICR is around 55% is for category \"HIGH\" (highest) whereas lowest for \"MED\""
   ]
  },
  {
   "cell_type": "code",
   "execution_count": 10,
   "metadata": {},
   "outputs": [],
   "source": [
    "inp1= pd.read_csv(\"market_returns.csv\")"
   ]
  },
  {
   "cell_type": "code",
   "execution_count": 11,
   "metadata": {
    "scrolled": false
   },
   "outputs": [
    {
     "data": {
      "image/png": "[encoded data removed]",
      "text/plain": [
       "<Figure size 504x360 with 1 Axes>"
      ]
     },
     "metadata": {
      "needs_background": "light"
     },
     "output_type": "display_data"
    }
   ],
   "source": [
    "plt.figure(figsize=[7,5])\n",
    "\n",
    "plt.title(\"Types of banks\\n\", fontdict={'fontsize':21,'fontweight':6,'color':'Grey'})\n",
    "plt.xlabel('Classification\\n\\n',fontdict={'fontsize':14,'color':'black','fontweight':5})\n",
    "plt.ylabel('Amount\\n',fontdict={'fontsize':14,'color':'black','fontweight':5})\n",
    "inp0.bank_type.value_counts(normalize=True).plot.bar()\n",
    "plt.show()"
   ]
  },
  {
   "cell_type": "markdown",
   "metadata": {},
   "source": [
    "\n",
    "We can see that public type banks are the most lenders for non-financial firms."
   ]
  },
  {
   "cell_type": "code",
   "execution_count": 12,
   "metadata": {},
   "outputs": [
    {
     "data": {
      "image/png": "[encoded data removed]",
      "text/plain": [
       "<Figure size 504x360 with 1 Axes>"
      ]
     },
     "metadata": {
      "needs_background": "light"
     },
     "output_type": "display_data"
    }
   ],
   "source": [
    "plt.figure(figsize=[7,5])\n",
    "\n",
    "plt.title(\"Gross NPA to Net Advance Ratio\\n\", fontdict={'fontsize':21,'fontweight':6,'color':'Grey'})\n",
    "plt.xlabel('Classification of gnpar\\n\\n',fontdict={'fontsize':14,'color':'black','fontweight':5})\n",
    "plt.ylabel('Amount\\n',fontdict={'fontsize':14,'color':'black','fontweight':5})\n",
    "inp0.gnpar.value_counts(normalize=True).plot.bar()\n",
    "plt.show()"
   ]
  },
  {
   "cell_type": "markdown",
   "metadata": {},
   "source": [
    "\n",
    "From above we can see that NPAR_HI has higher frequency over the year 2016, which implies that bank's asset quality is in very poor shape."
   ]
  },
  {
   "cell_type": "code",
   "execution_count": 13,
   "metadata": {},
   "outputs": [
    {
     "data": {
      "image/png": "[encoded data removed]",
      "text/plain": [
       "<Figure size 504x360 with 1 Axes>"
      ]
     },
     "metadata": {
      "needs_background": "light"
     },
     "output_type": "display_data"
    }
   ],
   "source": [
    "plt.figure(figsize=[7,5])\n",
    "\n",
    "plt.title(\"Net NPA to Net Advance Ratio\\n\", fontdict={'fontsize':21,'fontweight':6,'color':'Grey'})\n",
    "plt.xlabel('Classification of nnpar\\n\\n',fontdict={'fontsize':14,'color':'black','fontweight':5})\n",
    "plt.ylabel('Amount\\n',fontdict={'fontsize':14,'color':'black','fontweight':5})\n",
    "inp0.nnpar.value_counts(normalize=True).plot.bar()\n",
    "plt.show()"
   ]
  },
  {
   "cell_type": "markdown",
   "metadata": {},
   "source": [
    "\n",
    "Net NPA indicate deduction of inpaid loans from unpaid obligations, resulting sum relates to net non-performing assets.\n",
    "Here higher frequency is for NPAR_LO wich implies overall there is less allowance for poor and uncertain debts than the amount of non-performing loans."
   ]
  },
  {
   "cell_type": "markdown",
   "metadata": {},
   "source": [
    "## Bivariate Analysis"
   ]
  },
  {
   "cell_type": "code",
   "execution_count": 14,
   "metadata": {},
   "outputs": [
    {
     "data": {
      "text/plain": [
       "1    0.52684\n",
       "0    0.47316\n",
       "Name: gnpar, dtype: float64"
      ]
     },
     "execution_count": 14,
     "metadata": {},
     "output_type": "execute_result"
    }
   ],
   "source": [
    "# NPAR_HI represent value 1 and NPAR_LO represent value 0\n",
    "inp0[\"gnpar\"]=np.where(inp0.gnpar==\"NPAR_HI\",1,0)\n",
    "inp0.gnpar.value_counts(normalize=True)"
   ]
  },
  {
   "cell_type": "code",
   "execution_count": 15,
   "metadata": {},
   "outputs": [
    {
     "data": {
      "text/plain": [
       "<matplotlib.axes._subplots.AxesSubplot at 0x2659c77ebe0>"
      ]
     },
     "execution_count": 15,
     "metadata": {},
     "output_type": "execute_result"
    },
    {
     "data": {
      "image/png": "[encoded data removed]",
      "text/plain": [
       "<Figure size 504x360 with 1 Axes>"
      ]
     },
     "metadata": {
      "needs_background": "light"
     },
     "output_type": "display_data"
    }
   ],
   "source": [
    "plt.figure(figsize=[7,5])\n",
    "\n",
    "plt.title(\"Bank Type vs Gross NPA\\n\", fontdict={'fontsize':21,'fontweight':6,'color':'Grey'})\n",
    "plt.xlabel('Classification of gnpar\\n\\n',fontdict={'fontsize':14,'color':'black','fontweight':5})\n",
    "plt.ylabel('Amount\\n',fontdict={'fontsize':14,'color':'black','fontweight':5})\n",
    "inp0.groupby(\"bank_type\")[\"gnpar\"].mean().plot.barh()"
   ]
  },
  {
   "cell_type": "markdown",
   "metadata": {},
   "source": [
    "\n",
    "Public banks turn out to be highest lenders for NPA"
   ]
  },
  {
   "cell_type": "code",
   "execution_count": 16,
   "metadata": {},
   "outputs": [
    {
     "data": {
      "text/plain": [
       "0    0.640531\n",
       "1    0.359469\n",
       "Name: nnpar, dtype: float64"
      ]
     },
     "execution_count": 16,
     "metadata": {},
     "output_type": "execute_result"
    }
   ],
   "source": [
    "inp0[\"nnpar\"]=np.where(inp0.nnpar==\"NPAR_HI\",1,0)\n",
    "inp0.nnpar.value_counts(normalize=True)"
   ]
  },
  {
   "cell_type": "code",
   "execution_count": 17,
   "metadata": {},
   "outputs": [
    {
     "data": {
      "text/plain": [
       "<matplotlib.axes._subplots.AxesSubplot at 0x2659c7e3970>"
      ]
     },
     "execution_count": 17,
     "metadata": {},
     "output_type": "execute_result"
    },
    {
     "data": {
      "image/png": "[encoded data removed]",
      "text/plain": [
       "<Figure size 504x360 with 1 Axes>"
      ]
     },
     "metadata": {
      "needs_background": "light"
     },
     "output_type": "display_data"
    }
   ],
   "source": [
    "plt.figure(figsize=[7,5])\n",
    "\n",
    "plt.title(\"Bank Type vs Net NPA\\n\", fontdict={'fontsize':21,'fontweight':6,'color':'Grey'})\n",
    "plt.xlabel('Classification of nnpar\\n\\n',fontdict={'fontsize':14,'color':'black','fontweight':5})\n",
    "plt.ylabel('Amount\\n',fontdict={'fontsize':14,'color':'black','fontweight':5})\n",
    "inp0.groupby(\"bank_type\")[\"nnpar\"].mean().plot.barh()"
   ]
  },
  {
   "cell_type": "markdown",
   "metadata": {},
   "source": [
    "\n",
    "We find similar evidence as in the case of Gross NPA. Public banks are not good at identifying good borrowers."
   ]
  },
  {
   "cell_type": "code",
   "execution_count": 18,
   "metadata": {},
   "outputs": [],
   "source": [
    "level_map = {'HIGH':2,'MEDIUM':1,'LOW':0}\n",
    "inp0['icr_category'] = inp0['icr_category'].map(level_map)"
   ]
  },
  {
   "cell_type": "code",
   "execution_count": 19,
   "metadata": {},
   "outputs": [
    {
     "data": {
      "text/plain": [
       "<matplotlib.axes._subplots.AxesSubplot at 0x2659c7ead30>"
      ]
     },
     "execution_count": 19,
     "metadata": {},
     "output_type": "execute_result"
    },
    {
     "data": {
      "image/png": "[encoded data removed]",
      "text/plain": [
       "<Figure size 504x360 with 1 Axes>"
      ]
     },
     "metadata": {
      "needs_background": "light"
     },
     "output_type": "display_data"
    }
   ],
   "source": [
    "plt.figure(figsize=[7,5])\n",
    "\n",
    "plt.title(\"Bank Type vs ICR category\\n\", fontdict={'fontsize':21,'fontweight':6,'color':'Grey'})\n",
    "plt.xlabel('ICR value\\n\\n',fontdict={'fontsize':14,'color':'black','fontweight':5})\n",
    "plt.ylabel('Amount\\n',fontdict={'fontsize':14,'color':'black','fontweight':5})\n",
    "inp0.groupby(\"bank_type\")[\"icr_category\"].mean().plot.barh()"
   ]
  },
  {
   "cell_type": "markdown",
   "metadata": {},
   "source": [
    "we can see that public,private and SBI & Associates banks have medium category ICR ,that is, 1<=ICR<=2 (MED)."
   ]
  },
  {
   "cell_type": "markdown",
   "metadata": {},
   "source": [
    "## Market return for MAY 2017"
   ]
  },
  {
   "cell_type": "code",
   "execution_count": 20,
   "metadata": {},
   "outputs": [],
   "source": [
    "data = pd.read_csv(\"market_returns.csv\", index_col =\"date\")"
   ]
  },
  {
   "cell_type": "code",
   "execution_count": 21,
   "metadata": {},
   "outputs": [],
   "source": [
    "may_17= rows = data.loc[\"02may2017\":\"26may2017\"] "
   ]
  },
  {
   "cell_type": "code",
   "execution_count": 22,
   "metadata": {},
   "outputs": [
    {
     "data": {
      "text/plain": [
       "0.16625188830603937"
      ]
     },
     "execution_count": 22,
     "metadata": {},
     "output_type": "execute_result"
    }
   ],
   "source": [
    "may_17.mkt_return.mean()"
   ]
  },
  {
   "cell_type": "code",
   "execution_count": 23,
   "metadata": {},
   "outputs": [
    {
     "data": {
      "text/plain": [
       "<matplotlib.axes._subplots.AxesSubplot at 0x2659c8a28e0>"
      ]
     },
     "execution_count": 23,
     "metadata": {},
     "output_type": "execute_result"
    },
    {
     "data": {
      "image/png": "[encoded data removed]",
      "text/plain": [
       "<Figure size 648x504 with 1 Axes>"
      ]
     },
     "metadata": {
      "needs_background": "light"
     },
     "output_type": "display_data"
    }
   ],
   "source": [
    "plt.figure(figsize=[9,7])\n",
    "plt.title(\"Market return for month May 2017\\n\", fontdict={'fontsize':21,'fontweight':6,'color':'Grey'})\n",
    "plt.xlabel('Date\\n\\n',fontdict={'fontsize':14,'color':'black','fontweight':5})\n",
    "plt.ylabel('Amount\\n',fontdict={'fontsize':14,'color':'black','fontweight':5})\n",
    "may_17.mkt_return.plot.bar()"
   ]
  },
  {
   "cell_type": "markdown",
   "metadata": {},
   "source": [
    "Analysis of market return based on May 2017. \n",
    "Market return for the whole May month. We can see the fluctuation from point 0. Overall impact of market return is postive with mean value 16% "
   ]
  },
  {
   "cell_type": "markdown",
   "metadata": {},
   "source": [
    "## Stressed vs Non-Stressed banks"
   ]
  },
  {
   "cell_type": "code",
   "execution_count": 36,
   "metadata": {},
   "outputs": [
    {
     "data": {
      "text/plain": [
       "1.0"
      ]
     },
     "execution_count": 36,
     "metadata": {},
     "output_type": "execute_result"
    }
   ],
   "source": [
    "# Take median on Gross NPA\n",
    "inp0.gnpar.median()"
   ]
  },
  {
   "cell_type": "code",
   "execution_count": 39,
   "metadata": {},
   "outputs": [
    {
     "data": {
      "text/plain": [
       "(array([   0.,    0.,    0.,    0.,    0., 1747.,    0.,    0.,    0.,\n",
       "           0.]),\n",
       " array([0.5, 0.6, 0.7, 0.8, 0.9, 1. , 1.1, 1.2, 1.3, 1.4, 1.5]),\n",
       " <a list of 10 Patch objects>)"
      ]
     },
     "execution_count": 39,
     "metadata": {},
     "output_type": "execute_result"
    },
    {
     "data": {
      "image/png": "[encoded data removed]",
      "text/plain": [
       "<Figure size 432x288 with 1 Axes>"
      ]
     },
     "metadata": {
      "needs_background": "light"
     },
     "output_type": "display_data"
    }
   ],
   "source": [
    "# Extract banks above median Gross NPA\n",
    "inp3=inp0[inp0.gnpar>=1.0]\n",
    "plt.hist(inp3.gnpar)"
   ]
  },
  {
   "cell_type": "code",
   "execution_count": 28,
   "metadata": {},
   "outputs": [
    {
     "data": {
      "text/plain": [
       "GITANJALI GEMS LTD.                  1\n",
       "KIRLOSKAR PNEUMATIC CO. LTD.         1\n",
       "BAJAJ STEEL INDS. LTD.               1\n",
       "NATIONAL STEEL & AGRO INDS. LTD.     1\n",
       "SAKTHI SUGARS LTD.                   1\n",
       "                                    ..\n",
       "ALOK INDUSTRIES LTD.                 1\n",
       "J K CEMENT LTD.                      1\n",
       "ANSAL HOUSING & CONSTRUCTION LTD.    1\n",
       "EMPOWER INDIA LTD.                   1\n",
       "SHRI KESHAV CEMENTS & INFRA LTD.     1\n",
       "Name: co_name, Length: 1192, dtype: int64"
      ]
     },
     "execution_count": 28,
     "metadata": {},
     "output_type": "execute_result"
    }
   ],
   "source": [
    "# Firms linked to stressed banks\n",
    "inp3.co_name.value_counts()"
   ]
  },
  {
   "cell_type": "code",
   "execution_count": 41,
   "metadata": {},
   "outputs": [
    {
     "data": {
      "text/plain": [
       "(array([   0.,    0.,    0.,    0.,    0., 1569.,    0.,    0.,    0.,\n",
       "           0.]),\n",
       " array([-0.5, -0.4, -0.3, -0.2, -0.1,  0. ,  0.1,  0.2,  0.3,  0.4,  0.5]),\n",
       " <a list of 10 Patch objects>)"
      ]
     },
     "execution_count": 41,
     "metadata": {},
     "output_type": "execute_result"
    },
    {
     "data": {
      "image/png": "[encoded data removed]",
      "text/plain": [
       "<Figure size 432x288 with 1 Axes>"
      ]
     },
     "metadata": {
      "needs_background": "light"
     },
     "output_type": "display_data"
    }
   ],
   "source": [
    "# Extract banks below median Net NPA\n",
    "inp4=inp0[inp0.gnpar<1.0]\n",
    "plt.hist(inp4.gnpar)"
   ]
  },
  {
   "cell_type": "code",
   "execution_count": 31,
   "metadata": {},
   "outputs": [
    {
     "data": {
      "text/plain": [
       "ANANT RAJ LTD.                     1\n",
       "BIOCON LTD.                        1\n",
       "RAJASTHAN PETRO SYNTHETICS LTD.    1\n",
       "THIRU AROORAN SUGARS LTD.          1\n",
       "UNITECH INTERNATIONAL LTD.         1\n",
       "                                  ..\n",
       "GALLANTT ISPAT LTD.                1\n",
       "INDRAYANI BIOTECH LTD.             1\n",
       "I I T L PROJECTS LTD.              1\n",
       "PREMIER POLYFILM LTD.              1\n",
       "ACCEL TRANSMATIC LTD.              1\n",
       "Name: co_name, Length: 2124, dtype: int64"
      ]
     },
     "execution_count": 31,
     "metadata": {},
     "output_type": "execute_result"
    }
   ],
   "source": [
    "# Firms linked to non-stressed banks\n",
    "inp4.co_name.value_counts()"
   ]
  },
  {
   "cell_type": "markdown",
   "metadata": {},
   "source": [
    "Above segregation of banks on the basis of median Gross GPA represent Stressed and Non-stressed banks and firms linked to it."
   ]
  },
  {
   "cell_type": "markdown",
   "metadata": {},
   "source": [
    "## Import data file for ret_banks and merge "
   ]
  },
  {
   "cell_type": "code",
   "execution_count": 59,
   "metadata": {},
   "outputs": [],
   "source": [
    "data1 = pd.read_csv(\"ret_banks_2016-2017.csv\")"
   ]
  },
  {
   "cell_type": "code",
   "execution_count": 60,
   "metadata": {},
   "outputs": [
    {
     "data": {
      "text/html": [
       "<div>\n",
       "<style scoped>\n",
       "    .dataframe tbody tr th:only-of-type {\n",
       "        vertical-align: middle;\n",
       "    }\n",
       "\n",
       "    .dataframe tbody tr th {\n",
       "        vertical-align: top;\n",
       "    }\n",
       "\n",
       "    .dataframe thead th {\n",
       "        text-align: right;\n",
       "    }\n",
       "</style>\n",
       "<table border=\"1\" class=\"dataframe\">\n",
       "  <thead>\n",
       "    <tr style=\"text-align: right;\">\n",
       "      <th></th>\n",
       "      <th>co_code</th>\n",
       "      <th>co_name</th>\n",
       "      <th>date</th>\n",
       "      <th>stk_return</th>\n",
       "    </tr>\n",
       "  </thead>\n",
       "  <tbody>\n",
       "    <tr>\n",
       "      <th>0</th>\n",
       "      <td>100224</td>\n",
       "      <td>INDUSIND BANK LTD.</td>\n",
       "      <td>01jan2016</td>\n",
       "      <td>-0.529999</td>\n",
       "    </tr>\n",
       "    <tr>\n",
       "      <th>1</th>\n",
       "      <td>100224</td>\n",
       "      <td>INDUSIND BANK LTD.</td>\n",
       "      <td>04jan2016</td>\n",
       "      <td>-3.079998</td>\n",
       "    </tr>\n",
       "    <tr>\n",
       "      <th>2</th>\n",
       "      <td>100224</td>\n",
       "      <td>INDUSIND BANK LTD.</td>\n",
       "      <td>05jan2016</td>\n",
       "      <td>0.109994</td>\n",
       "    </tr>\n",
       "    <tr>\n",
       "      <th>3</th>\n",
       "      <td>100224</td>\n",
       "      <td>INDUSIND BANK LTD.</td>\n",
       "      <td>06jan2016</td>\n",
       "      <td>0.929999</td>\n",
       "    </tr>\n",
       "    <tr>\n",
       "      <th>4</th>\n",
       "      <td>100224</td>\n",
       "      <td>INDUSIND BANK LTD.</td>\n",
       "      <td>07jan2016</td>\n",
       "      <td>-1.950002</td>\n",
       "    </tr>\n",
       "    <tr>\n",
       "      <th>...</th>\n",
       "      <td>...</td>\n",
       "      <td>...</td>\n",
       "      <td>...</td>\n",
       "      <td>...</td>\n",
       "    </tr>\n",
       "    <tr>\n",
       "      <th>11119</th>\n",
       "      <td>98918</td>\n",
       "      <td>INDIAN OVERSEAS BANK</td>\n",
       "      <td>27mar2017</td>\n",
       "      <td>-1.679999</td>\n",
       "    </tr>\n",
       "    <tr>\n",
       "      <th>11120</th>\n",
       "      <td>98918</td>\n",
       "      <td>INDIAN OVERSEAS BANK</td>\n",
       "      <td>28mar2017</td>\n",
       "      <td>0.569999</td>\n",
       "    </tr>\n",
       "    <tr>\n",
       "      <th>11121</th>\n",
       "      <td>98918</td>\n",
       "      <td>INDIAN OVERSEAS BANK</td>\n",
       "      <td>29mar2017</td>\n",
       "      <td>0.000000</td>\n",
       "    </tr>\n",
       "    <tr>\n",
       "      <th>11122</th>\n",
       "      <td>98918</td>\n",
       "      <td>INDIAN OVERSEAS BANK</td>\n",
       "      <td>30mar2017</td>\n",
       "      <td>-0.190002</td>\n",
       "    </tr>\n",
       "    <tr>\n",
       "      <th>11123</th>\n",
       "      <td>98918</td>\n",
       "      <td>INDIAN OVERSEAS BANK</td>\n",
       "      <td>31mar2017</td>\n",
       "      <td>0.950003</td>\n",
       "    </tr>\n",
       "  </tbody>\n",
       "</table>\n",
       "<p>11124 rows × 4 columns</p>\n",
       "</div>"
      ],
      "text/plain": [
       "       co_code               co_name       date  stk_return\n",
       "0       100224    INDUSIND BANK LTD.  01jan2016   -0.529999\n",
       "1       100224    INDUSIND BANK LTD.  04jan2016   -3.079998\n",
       "2       100224    INDUSIND BANK LTD.  05jan2016    0.109994\n",
       "3       100224    INDUSIND BANK LTD.  06jan2016    0.929999\n",
       "4       100224    INDUSIND BANK LTD.  07jan2016   -1.950002\n",
       "...        ...                   ...        ...         ...\n",
       "11119    98918  INDIAN OVERSEAS BANK  27mar2017   -1.679999\n",
       "11120    98918  INDIAN OVERSEAS BANK  28mar2017    0.569999\n",
       "11121    98918  INDIAN OVERSEAS BANK  29mar2017    0.000000\n",
       "11122    98918  INDIAN OVERSEAS BANK  30mar2017   -0.190002\n",
       "11123    98918  INDIAN OVERSEAS BANK  31mar2017    0.950003\n",
       "\n",
       "[11124 rows x 4 columns]"
      ]
     },
     "execution_count": 60,
     "metadata": {},
     "output_type": "execute_result"
    }
   ],
   "source": [
    "data1"
   ]
  },
  {
   "cell_type": "code",
   "execution_count": 57,
   "metadata": {},
   "outputs": [],
   "source": [
    "data2= pd.read_csv(\"ret_banks_2016-2017_part2.csv\")"
   ]
  },
  {
   "cell_type": "code",
   "execution_count": 58,
   "metadata": {},
   "outputs": [
    {
     "data": {
      "text/html": [
       "<div>\n",
       "<style scoped>\n",
       "    .dataframe tbody tr th:only-of-type {\n",
       "        vertical-align: middle;\n",
       "    }\n",
       "\n",
       "    .dataframe tbody tr th {\n",
       "        vertical-align: top;\n",
       "    }\n",
       "\n",
       "    .dataframe thead th {\n",
       "        text-align: right;\n",
       "    }\n",
       "</style>\n",
       "<table border=\"1\" class=\"dataframe\">\n",
       "  <thead>\n",
       "    <tr style=\"text-align: right;\">\n",
       "      <th></th>\n",
       "      <th>co_code</th>\n",
       "      <th>date</th>\n",
       "      <th>stk_return</th>\n",
       "    </tr>\n",
       "  </thead>\n",
       "  <tbody>\n",
       "    <tr>\n",
       "      <th>0</th>\n",
       "      <td>11019</td>\n",
       "      <td>03apr2017</td>\n",
       "      <td>0.00</td>\n",
       "    </tr>\n",
       "    <tr>\n",
       "      <th>1</th>\n",
       "      <td>11019</td>\n",
       "      <td>05apr2017</td>\n",
       "      <td>1.70</td>\n",
       "    </tr>\n",
       "    <tr>\n",
       "      <th>2</th>\n",
       "      <td>11019</td>\n",
       "      <td>06apr2017</td>\n",
       "      <td>-1.47</td>\n",
       "    </tr>\n",
       "    <tr>\n",
       "      <th>3</th>\n",
       "      <td>11019</td>\n",
       "      <td>07apr2017</td>\n",
       "      <td>-1.70</td>\n",
       "    </tr>\n",
       "    <tr>\n",
       "      <th>4</th>\n",
       "      <td>11019</td>\n",
       "      <td>10apr2017</td>\n",
       "      <td>2.14</td>\n",
       "    </tr>\n",
       "    <tr>\n",
       "      <th>...</th>\n",
       "      <td>...</td>\n",
       "      <td>...</td>\n",
       "      <td>...</td>\n",
       "    </tr>\n",
       "    <tr>\n",
       "      <th>2011</th>\n",
       "      <td>512651</td>\n",
       "      <td>16jun2017</td>\n",
       "      <td>-1.04</td>\n",
       "    </tr>\n",
       "    <tr>\n",
       "      <th>2012</th>\n",
       "      <td>512651</td>\n",
       "      <td>19jun2017</td>\n",
       "      <td>-0.17</td>\n",
       "    </tr>\n",
       "    <tr>\n",
       "      <th>2013</th>\n",
       "      <td>512651</td>\n",
       "      <td>20jun2017</td>\n",
       "      <td>0.09</td>\n",
       "    </tr>\n",
       "    <tr>\n",
       "      <th>2014</th>\n",
       "      <td>512651</td>\n",
       "      <td>21jun2017</td>\n",
       "      <td>-0.17</td>\n",
       "    </tr>\n",
       "    <tr>\n",
       "      <th>2015</th>\n",
       "      <td>512651</td>\n",
       "      <td>22jun2017</td>\n",
       "      <td>0.00</td>\n",
       "    </tr>\n",
       "  </tbody>\n",
       "</table>\n",
       "<p>2016 rows × 3 columns</p>\n",
       "</div>"
      ],
      "text/plain": [
       "      co_code       date  stk_return\n",
       "0       11019  03apr2017        0.00\n",
       "1       11019  05apr2017        1.70\n",
       "2       11019  06apr2017       -1.47\n",
       "3       11019  07apr2017       -1.70\n",
       "4       11019  10apr2017        2.14\n",
       "...       ...        ...         ...\n",
       "2011   512651  16jun2017       -1.04\n",
       "2012   512651  19jun2017       -0.17\n",
       "2013   512651  20jun2017        0.09\n",
       "2014   512651  21jun2017       -0.17\n",
       "2015   512651  22jun2017        0.00\n",
       "\n",
       "[2016 rows x 3 columns]"
      ]
     },
     "execution_count": 58,
     "metadata": {},
     "output_type": "execute_result"
    }
   ],
   "source": [
    "data2"
   ]
  },
  {
   "cell_type": "code",
   "execution_count": 63,
   "metadata": {},
   "outputs": [],
   "source": [
    "data4= pd.merge(data1, data2, on='co_code')"
   ]
  },
  {
   "cell_type": "code",
   "execution_count": 64,
   "metadata": {},
   "outputs": [
    {
     "data": {
      "text/html": [
       "<div>\n",
       "<style scoped>\n",
       "    .dataframe tbody tr th:only-of-type {\n",
       "        vertical-align: middle;\n",
       "    }\n",
       "\n",
       "    .dataframe tbody tr th {\n",
       "        vertical-align: top;\n",
       "    }\n",
       "\n",
       "    .dataframe thead th {\n",
       "        text-align: right;\n",
       "    }\n",
       "</style>\n",
       "<table border=\"1\" class=\"dataframe\">\n",
       "  <thead>\n",
       "    <tr style=\"text-align: right;\">\n",
       "      <th></th>\n",
       "      <th>co_code</th>\n",
       "      <th>co_name</th>\n",
       "      <th>date_x</th>\n",
       "      <th>stk_return_x</th>\n",
       "      <th>date_y</th>\n",
       "      <th>stk_return_y</th>\n",
       "    </tr>\n",
       "  </thead>\n",
       "  <tbody>\n",
       "    <tr>\n",
       "      <th>0</th>\n",
       "      <td>100224</td>\n",
       "      <td>INDUSIND BANK LTD.</td>\n",
       "      <td>01jan2016</td>\n",
       "      <td>-0.529999</td>\n",
       "      <td>03apr2017</td>\n",
       "      <td>-1.52</td>\n",
       "    </tr>\n",
       "    <tr>\n",
       "      <th>1</th>\n",
       "      <td>100224</td>\n",
       "      <td>INDUSIND BANK LTD.</td>\n",
       "      <td>01jan2016</td>\n",
       "      <td>-0.529999</td>\n",
       "      <td>05apr2017</td>\n",
       "      <td>-0.18</td>\n",
       "    </tr>\n",
       "    <tr>\n",
       "      <th>2</th>\n",
       "      <td>100224</td>\n",
       "      <td>INDUSIND BANK LTD.</td>\n",
       "      <td>01jan2016</td>\n",
       "      <td>-0.529999</td>\n",
       "      <td>06apr2017</td>\n",
       "      <td>1.48</td>\n",
       "    </tr>\n",
       "    <tr>\n",
       "      <th>3</th>\n",
       "      <td>100224</td>\n",
       "      <td>INDUSIND BANK LTD.</td>\n",
       "      <td>01jan2016</td>\n",
       "      <td>-0.529999</td>\n",
       "      <td>07apr2017</td>\n",
       "      <td>-0.66</td>\n",
       "    </tr>\n",
       "    <tr>\n",
       "      <th>4</th>\n",
       "      <td>100224</td>\n",
       "      <td>INDUSIND BANK LTD.</td>\n",
       "      <td>01jan2016</td>\n",
       "      <td>-0.529999</td>\n",
       "      <td>10apr2017</td>\n",
       "      <td>0.93</td>\n",
       "    </tr>\n",
       "    <tr>\n",
       "      <th>...</th>\n",
       "      <td>...</td>\n",
       "      <td>...</td>\n",
       "      <td>...</td>\n",
       "      <td>...</td>\n",
       "      <td>...</td>\n",
       "      <td>...</td>\n",
       "    </tr>\n",
       "    <tr>\n",
       "      <th>622939</th>\n",
       "      <td>98918</td>\n",
       "      <td>INDIAN OVERSEAS BANK</td>\n",
       "      <td>31mar2017</td>\n",
       "      <td>0.950003</td>\n",
       "      <td>16jun2017</td>\n",
       "      <td>1.71</td>\n",
       "    </tr>\n",
       "    <tr>\n",
       "      <th>622940</th>\n",
       "      <td>98918</td>\n",
       "      <td>INDIAN OVERSEAS BANK</td>\n",
       "      <td>31mar2017</td>\n",
       "      <td>0.950003</td>\n",
       "      <td>19jun2017</td>\n",
       "      <td>-3.00</td>\n",
       "    </tr>\n",
       "    <tr>\n",
       "      <th>622941</th>\n",
       "      <td>98918</td>\n",
       "      <td>INDIAN OVERSEAS BANK</td>\n",
       "      <td>31mar2017</td>\n",
       "      <td>0.950003</td>\n",
       "      <td>20jun2017</td>\n",
       "      <td>-0.97</td>\n",
       "    </tr>\n",
       "    <tr>\n",
       "      <th>622942</th>\n",
       "      <td>98918</td>\n",
       "      <td>INDIAN OVERSEAS BANK</td>\n",
       "      <td>31mar2017</td>\n",
       "      <td>0.950003</td>\n",
       "      <td>21jun2017</td>\n",
       "      <td>-0.19</td>\n",
       "    </tr>\n",
       "    <tr>\n",
       "      <th>622943</th>\n",
       "      <td>98918</td>\n",
       "      <td>INDIAN OVERSEAS BANK</td>\n",
       "      <td>31mar2017</td>\n",
       "      <td>0.950003</td>\n",
       "      <td>22jun2017</td>\n",
       "      <td>-0.39</td>\n",
       "    </tr>\n",
       "  </tbody>\n",
       "</table>\n",
       "<p>622944 rows × 6 columns</p>\n",
       "</div>"
      ],
      "text/plain": [
       "        co_code               co_name     date_x  stk_return_x     date_y  \\\n",
       "0        100224    INDUSIND BANK LTD.  01jan2016     -0.529999  03apr2017   \n",
       "1        100224    INDUSIND BANK LTD.  01jan2016     -0.529999  05apr2017   \n",
       "2        100224    INDUSIND BANK LTD.  01jan2016     -0.529999  06apr2017   \n",
       "3        100224    INDUSIND BANK LTD.  01jan2016     -0.529999  07apr2017   \n",
       "4        100224    INDUSIND BANK LTD.  01jan2016     -0.529999  10apr2017   \n",
       "...         ...                   ...        ...           ...        ...   \n",
       "622939    98918  INDIAN OVERSEAS BANK  31mar2017      0.950003  16jun2017   \n",
       "622940    98918  INDIAN OVERSEAS BANK  31mar2017      0.950003  19jun2017   \n",
       "622941    98918  INDIAN OVERSEAS BANK  31mar2017      0.950003  20jun2017   \n",
       "622942    98918  INDIAN OVERSEAS BANK  31mar2017      0.950003  21jun2017   \n",
       "622943    98918  INDIAN OVERSEAS BANK  31mar2017      0.950003  22jun2017   \n",
       "\n",
       "        stk_return_y  \n",
       "0              -1.52  \n",
       "1              -0.18  \n",
       "2               1.48  \n",
       "3              -0.66  \n",
       "4               0.93  \n",
       "...              ...  \n",
       "622939          1.71  \n",
       "622940         -3.00  \n",
       "622941         -0.97  \n",
       "622942         -0.19  \n",
       "622943         -0.39  \n",
       "\n",
       "[622944 rows x 6 columns]"
      ]
     },
     "execution_count": 64,
     "metadata": {},
     "output_type": "execute_result"
    }
   ],
   "source": [
    "data4"
   ]
  },
  {
   "cell_type": "code",
   "execution_count": 65,
   "metadata": {},
   "outputs": [],
   "source": [
    "data_corr=data4.corr(method='spearman')"
   ]
  },
  {
   "cell_type": "code",
   "execution_count": 66,
   "metadata": {},
   "outputs": [
    {
     "data": {
      "text/html": [
       "<div>\n",
       "<style scoped>\n",
       "    .dataframe tbody tr th:only-of-type {\n",
       "        vertical-align: middle;\n",
       "    }\n",
       "\n",
       "    .dataframe tbody tr th {\n",
       "        vertical-align: top;\n",
       "    }\n",
       "\n",
       "    .dataframe thead th {\n",
       "        text-align: right;\n",
       "    }\n",
       "</style>\n",
       "<table border=\"1\" class=\"dataframe\">\n",
       "  <thead>\n",
       "    <tr style=\"text-align: right;\">\n",
       "      <th></th>\n",
       "      <th>co_code</th>\n",
       "      <th>stk_return_x</th>\n",
       "      <th>stk_return_y</th>\n",
       "    </tr>\n",
       "  </thead>\n",
       "  <tbody>\n",
       "    <tr>\n",
       "      <th>co_code</th>\n",
       "      <td>1.000000</td>\n",
       "      <td>-0.001635</td>\n",
       "      <td>-0.006615</td>\n",
       "    </tr>\n",
       "    <tr>\n",
       "      <th>stk_return_x</th>\n",
       "      <td>-0.001635</td>\n",
       "      <td>1.000000</td>\n",
       "      <td>0.002969</td>\n",
       "    </tr>\n",
       "    <tr>\n",
       "      <th>stk_return_y</th>\n",
       "      <td>-0.006615</td>\n",
       "      <td>0.002969</td>\n",
       "      <td>1.000000</td>\n",
       "    </tr>\n",
       "  </tbody>\n",
       "</table>\n",
       "</div>"
      ],
      "text/plain": [
       "               co_code  stk_return_x  stk_return_y\n",
       "co_code       1.000000     -0.001635     -0.006615\n",
       "stk_return_x -0.001635      1.000000      0.002969\n",
       "stk_return_y -0.006615      0.002969      1.000000"
      ]
     },
     "execution_count": 66,
     "metadata": {},
     "output_type": "execute_result"
    }
   ],
   "source": [
    "data_corr"
   ]
  },
  {
   "cell_type": "code",
   "execution_count": 67,
   "metadata": {},
   "outputs": [
    {
     "data": {
      "text/plain": [
       "<matplotlib.axes._subplots.AxesSubplot at 0x265a13ec820>"
      ]
     },
     "execution_count": 67,
     "metadata": {},
     "output_type": "execute_result"
    },
    {
     "data": {
      "image/png": "[encoded data removed]",
      "text/plain": [
       "<Figure size 432x288 with 2 Axes>"
      ]
     },
     "metadata": {
      "needs_background": "light"
     },
     "output_type": "display_data"
    }
   ],
   "source": [
    "sns.heatmap(data_corr, cmap=\"RdYlGn\",annot=False)"
   ]
  },
  {
   "cell_type": "markdown",
   "metadata": {},
   "source": [
    "Stk_return for total year has very less correlation with each other"
   ]
  },
  {
   "cell_type": "code",
   "execution_count": 69,
   "metadata": {},
   "outputs": [],
   "source": [
    "alloc_1= pd.read_csv(\"ret_allcos_2016-2017.csv\")"
   ]
  },
  {
   "cell_type": "code",
   "execution_count": 72,
   "metadata": {},
   "outputs": [],
   "source": [
    "alloc_2=pd.read_csv(\"ret_allcos_2016-2017_part2.csv\")"
   ]
  },
  {
   "cell_type": "code",
   "execution_count": 73,
   "metadata": {},
   "outputs": [],
   "source": [
    "alloc_3= pd.merge(alloc_1, alloc_2, on='co_code')"
   ]
  },
  {
   "cell_type": "code",
   "execution_count": 74,
   "metadata": {},
   "outputs": [
    {
     "data": {
      "text/html": [
       "<div>\n",
       "<style scoped>\n",
       "    .dataframe tbody tr th:only-of-type {\n",
       "        vertical-align: middle;\n",
       "    }\n",
       "\n",
       "    .dataframe tbody tr th {\n",
       "        vertical-align: top;\n",
       "    }\n",
       "\n",
       "    .dataframe thead th {\n",
       "        text-align: right;\n",
       "    }\n",
       "</style>\n",
       "<table border=\"1\" class=\"dataframe\">\n",
       "  <thead>\n",
       "    <tr style=\"text-align: right;\">\n",
       "      <th></th>\n",
       "      <th>co_code</th>\n",
       "      <th>co_name</th>\n",
       "      <th>date_x</th>\n",
       "      <th>stk_return_x</th>\n",
       "      <th>date_y</th>\n",
       "      <th>stk_return_y</th>\n",
       "    </tr>\n",
       "  </thead>\n",
       "  <tbody>\n",
       "    <tr>\n",
       "      <th>0</th>\n",
       "      <td>100044</td>\n",
       "      <td>INDUCTO STEEL LTD.</td>\n",
       "      <td>01jan2016</td>\n",
       "      <td>0.349998</td>\n",
       "      <td>06apr2017</td>\n",
       "      <td>0.00</td>\n",
       "    </tr>\n",
       "    <tr>\n",
       "      <th>1</th>\n",
       "      <td>100044</td>\n",
       "      <td>INDUCTO STEEL LTD.</td>\n",
       "      <td>01jan2016</td>\n",
       "      <td>0.349998</td>\n",
       "      <td>08jun2017</td>\n",
       "      <td>-1.89</td>\n",
       "    </tr>\n",
       "    <tr>\n",
       "      <th>2</th>\n",
       "      <td>100044</td>\n",
       "      <td>INDUCTO STEEL LTD.</td>\n",
       "      <td>01jan2016</td>\n",
       "      <td>0.349998</td>\n",
       "      <td>16may2017</td>\n",
       "      <td>4.41</td>\n",
       "    </tr>\n",
       "    <tr>\n",
       "      <th>3</th>\n",
       "      <td>100044</td>\n",
       "      <td>INDUCTO STEEL LTD.</td>\n",
       "      <td>01jan2016</td>\n",
       "      <td>0.349998</td>\n",
       "      <td>21jun2017</td>\n",
       "      <td>NaN</td>\n",
       "    </tr>\n",
       "    <tr>\n",
       "      <th>4</th>\n",
       "      <td>100044</td>\n",
       "      <td>INDUCTO STEEL LTD.</td>\n",
       "      <td>01jan2016</td>\n",
       "      <td>0.349998</td>\n",
       "      <td>26may2017</td>\n",
       "      <td>NaN</td>\n",
       "    </tr>\n",
       "    <tr>\n",
       "      <th>...</th>\n",
       "      <td>...</td>\n",
       "      <td>...</td>\n",
       "      <td>...</td>\n",
       "      <td>...</td>\n",
       "      <td>...</td>\n",
       "      <td>...</td>\n",
       "    </tr>\n",
       "    <tr>\n",
       "      <th>35761595</th>\n",
       "      <td>99971</td>\n",
       "      <td>INDSIL HYDRO POWER &amp; MANGANESE LTD.</td>\n",
       "      <td>31mar2017</td>\n",
       "      <td>1.719999</td>\n",
       "      <td>05jun2017</td>\n",
       "      <td>-1.57</td>\n",
       "    </tr>\n",
       "    <tr>\n",
       "      <th>35761596</th>\n",
       "      <td>99971</td>\n",
       "      <td>INDSIL HYDRO POWER &amp; MANGANESE LTD.</td>\n",
       "      <td>31mar2017</td>\n",
       "      <td>1.719999</td>\n",
       "      <td>28apr2017</td>\n",
       "      <td>-1.64</td>\n",
       "    </tr>\n",
       "    <tr>\n",
       "      <th>35761597</th>\n",
       "      <td>99971</td>\n",
       "      <td>INDSIL HYDRO POWER &amp; MANGANESE LTD.</td>\n",
       "      <td>31mar2017</td>\n",
       "      <td>1.719999</td>\n",
       "      <td>02may2017</td>\n",
       "      <td>-0.50</td>\n",
       "    </tr>\n",
       "    <tr>\n",
       "      <th>35761598</th>\n",
       "      <td>99971</td>\n",
       "      <td>INDSIL HYDRO POWER &amp; MANGANESE LTD.</td>\n",
       "      <td>31mar2017</td>\n",
       "      <td>1.719999</td>\n",
       "      <td>11may2017</td>\n",
       "      <td>4.94</td>\n",
       "    </tr>\n",
       "    <tr>\n",
       "      <th>35761599</th>\n",
       "      <td>99971</td>\n",
       "      <td>INDSIL HYDRO POWER &amp; MANGANESE LTD.</td>\n",
       "      <td>31mar2017</td>\n",
       "      <td>1.719999</td>\n",
       "      <td>09jun2017</td>\n",
       "      <td>-2.30</td>\n",
       "    </tr>\n",
       "  </tbody>\n",
       "</table>\n",
       "<p>35761600 rows × 6 columns</p>\n",
       "</div>"
      ],
      "text/plain": [
       "          co_code                              co_name     date_x  \\\n",
       "0          100044                   INDUCTO STEEL LTD.  01jan2016   \n",
       "1          100044                   INDUCTO STEEL LTD.  01jan2016   \n",
       "2          100044                   INDUCTO STEEL LTD.  01jan2016   \n",
       "3          100044                   INDUCTO STEEL LTD.  01jan2016   \n",
       "4          100044                   INDUCTO STEEL LTD.  01jan2016   \n",
       "...           ...                                  ...        ...   \n",
       "35761595    99971  INDSIL HYDRO POWER & MANGANESE LTD.  31mar2017   \n",
       "35761596    99971  INDSIL HYDRO POWER & MANGANESE LTD.  31mar2017   \n",
       "35761597    99971  INDSIL HYDRO POWER & MANGANESE LTD.  31mar2017   \n",
       "35761598    99971  INDSIL HYDRO POWER & MANGANESE LTD.  31mar2017   \n",
       "35761599    99971  INDSIL HYDRO POWER & MANGANESE LTD.  31mar2017   \n",
       "\n",
       "          stk_return_x     date_y  stk_return_y  \n",
       "0             0.349998  06apr2017          0.00  \n",
       "1             0.349998  08jun2017         -1.89  \n",
       "2             0.349998  16may2017          4.41  \n",
       "3             0.349998  21jun2017           NaN  \n",
       "4             0.349998  26may2017           NaN  \n",
       "...                ...        ...           ...  \n",
       "35761595      1.719999  05jun2017         -1.57  \n",
       "35761596      1.719999  28apr2017         -1.64  \n",
       "35761597      1.719999  02may2017         -0.50  \n",
       "35761598      1.719999  11may2017          4.94  \n",
       "35761599      1.719999  09jun2017         -2.30  \n",
       "\n",
       "[35761600 rows x 6 columns]"
      ]
     },
     "execution_count": 74,
     "metadata": {},
     "output_type": "execute_result"
    }
   ],
   "source": [
    "alloc_3"
   ]
  },
  {
   "cell_type": "code",
   "execution_count": 75,
   "metadata": {},
   "outputs": [],
   "source": [
    "alloc_corr=alloc_3.corr(method='spearman')"
   ]
  },
  {
   "cell_type": "code",
   "execution_count": 76,
   "metadata": {},
   "outputs": [
    {
     "data": {
      "text/plain": [
       "<matplotlib.axes._subplots.AxesSubplot at 0x265a1577040>"
      ]
     },
     "execution_count": 76,
     "metadata": {},
     "output_type": "execute_result"
    },
    {
     "data": {
      "image/png": "[encoded data removed]",
      "text/plain": [
       "<Figure size 432x288 with 2 Axes>"
      ]
     },
     "metadata": {
      "needs_background": "light"
     },
     "output_type": "display_data"
    }
   ],
   "source": [
    "sns.heatmap(alloc_corr, cmap=\"RdYlGn\",annot=False)"
   ]
  },
  {
   "cell_type": "markdown",
   "metadata": {},
   "source": [
    "Very less correlation between any company stk_retrun"
   ]
  },
  {
   "cell_type": "code",
   "execution_count": null,
   "metadata": {},
   "outputs": [],
   "source": []
  }
 ],
 "metadata": {
  "kernelspec": {
   "display_name": "Python 3",
   "language": "python",
   "name": "python3"
  },
  "language_info": {
   "codemirror_mode": {
    "name": "ipython",
    "version": 3
   },
   "file_extension": ".py",
   "mimetype": "text/x-python",
   "name": "python",
   "nbconvert_exporter": "python",
   "pygments_lexer": "ipython3",
   "version": "3.8.3"
  }
 },
 "nbformat": 4,
 "nbformat_minor": 4
}
